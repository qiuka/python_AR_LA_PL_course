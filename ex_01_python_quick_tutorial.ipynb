{
 "cells": [
  {
   "cell_type": "code",
   "execution_count": 1,
   "id": "4a1af094-177e-49c7-8b1a-4f11a041f7a8",
   "metadata": {},
   "outputs": [
    {
     "name": "stdout",
     "output_type": "stream",
     "text": [
      "Hello World\n"
     ]
    }
   ],
   "source": [
    "print(\"Hello World\")"
   ]
  },
  {
   "cell_type": "code",
   "execution_count": 75,
   "id": "6cde02f2-3310-4b90-9e90-7a655f447cad",
   "metadata": {},
   "outputs": [
    {
     "name": "stdout",
     "output_type": "stream",
     "text": [
      "11\n"
     ]
    }
   ],
   "source": [
    "a=5\n",
    "func=2*a+1\n",
    "print(func)"
   ]
  },
  {
   "cell_type": "code",
   "execution_count": 10,
   "id": "f69f4af4-ff25-432d-9fa6-888b3505ea21",
   "metadata": {},
   "outputs": [
    {
     "name": "stdout",
     "output_type": "stream",
     "text": [
      "t= 28.0\n",
      "t=28.00\n",
      "t=28.00\n"
     ]
    }
   ],
   "source": [
    "x=7.0\n",
    "t=5*x-7\n",
    "print(\"t=\",t)\n",
    "print(\"t=%.2f\"%t)\n",
    "print(\"t={:.2f}\".format(t))"
   ]
  },
  {
   "cell_type": "code",
   "execution_count": 11,
   "id": "83647c22-d999-499d-9e6c-0fcfd21c4c2c",
   "metadata": {},
   "outputs": [
    {
     "name": "stdout",
     "output_type": "stream",
     "text": [
      "The longitude of the Xi'an coordinate is 108.94, and the latitude is 34.261013.\n"
     ]
    }
   ],
   "source": [
    "city_name=\"Xi'an\"\n",
    "coordinate_longitude=108.942292\n",
    "coordiante_latitude=34.261013\n",
    "print(\"The longitude of the Xi'an coordinate is {lon:.2f}, and the latitude is {lat}.\".format(lon=coordinate_longitude,lat=coordiante_latitude))"
   ]
  },
  {
   "cell_type": "code",
   "execution_count": 18,
   "id": "f2f6547b-e114-4705-b93f-1251128021f3",
   "metadata": {},
   "outputs": [
    {
     "name": "stdout",
     "output_type": "stream",
     "text": [
      "func=0\n"
     ]
    }
   ],
   "source": [
    "(x,y),(a,b)=(0,1),(2,3)\n",
    "func=3*x+4*y-5*a-6*b\n",
    "print(\"func={}\".format(x,y,a,b,func))"
   ]
  },
  {
   "cell_type": "code",
   "execution_count": 24,
   "id": "8a2eaff1-7957-445c-b801-c69e1a61a5eb",
   "metadata": {},
   "outputs": [
    {
     "name": "stdout",
     "output_type": "stream",
     "text": [
      "[1, 6, 11, 16, 21, 26, 31, 36, 41, 46, 51, 56, 61, 66, 71, 76, 81, 86, 91, 96]\n",
      "The list length=20\n",
      "Maximum value=96\n",
      "Minimum value=1\n"
     ]
    }
   ],
   "source": [
    "lst=list(range(1,100,5)) \n",
    "print(lst)\n",
    "print(\"The list length={}\".format(len(lst)))\n",
    "print(\"Maximum value={}\".format(max(lst)))\n",
    "print(\"Minimum value={}\".format(min(lst)))"
   ]
  },
  {
   "cell_type": "code",
   "execution_count": 23,
   "id": "64828fc5-68f4-47a9-84f5-22170adc5e4b",
   "metadata": {},
   "outputs": [
    {
     "name": "stdout",
     "output_type": "stream",
     "text": [
      "['d', 'e', 'f', 'g', 'h', 'i', 'j', 'k', 'l', 'm']\n",
      "__________________________________________________\n",
      "[3:6]->['g', 'h', 'i']\n",
      "[-3:-1]->['k', 'l']\n",
      "[-3:]->['k', 'l', 'm']\n",
      "[:3]->['d', 'e', 'f']\n",
      "[:]->['d', 'e', 'f', 'g', 'h', 'i', 'j', 'k', 'l', 'm']\n"
     ]
    }
   ],
   "source": [
    "lst_s=list(map(chr,range(100,110)))\n",
    "print(lst_s)\n",
    "print(\"_\"*50)\n",
    "print(\"[3:6]->{}\".format(lst_s[3:6]))\n",
    "print(\"[-3:-1]->{}\".format(lst_s[-3:-1]))\n",
    "print(\"[-3:]->{}\".format(lst_s[-3:]))\n",
    "print(\"[:3]->{}\".format(lst_s[:3]))\n",
    "print(\"[:]->{}\".format(lst_s[:]))"
   ]
  },
  {
   "cell_type": "code",
   "execution_count": 26,
   "id": "13c1b097-f989-4167-a73b-d7424a724b4b",
   "metadata": {},
   "outputs": [
    {
     "name": "stdout",
     "output_type": "stream",
     "text": [
      "[1, 6, 11, 16, 21, 26, 31, 36, 41, 46, 51, 56, 61, 66, 71, 76, 81, 86, 91, 96]\n",
      "__________________________________________________\n",
      "[0:10:2]->[1, 11, 21, 31, 41]\n",
      "[::3]->[1, 16, 31, 46, 61, 76, 91]\n",
      "[9:3:-2]->[46, 36, 26]\n",
      "[20:3:-2]->[96, 86, 76, 66, 56, 46, 36, 26]\n",
      "[7::-2]->[36, 26, 16, 6]\n",
      "[:3:-2]->[96, 86, 76, 66, 56, 46, 36, 26]\n"
     ]
    }
   ],
   "source": [
    "print(lst)\n",
    "print(\"_\"*50)\n",
    "print(\"[0:10:2]->{}\".format(lst[0:10:2]))\n",
    "print(\"[::3]->{}\".format(lst[::3]))\n",
    "print(\"[9:3:-2]->{}\".format(lst[9:3:-2]))\n",
    "print(\"[20:3:-2]->{}\".format(lst[20:3:-2]))\n",
    "print(\"[7::-2]->{}\".format(lst[7::-2]))\n",
    "print(\"[:3:-2]->{}\".format(lst[:3:-2]))"
   ]
  },
  {
   "cell_type": "code",
   "execution_count": 28,
   "id": "529a2c68-0c12-4c86-b7de-fdbc42a5ab5f",
   "metadata": {},
   "outputs": [
    {
     "name": "stdout",
     "output_type": "stream",
     "text": [
      "['d', 'e', 'f', 'g', 'h', 99, 'j', 'k', 'l', 'm']\n",
      "______________________________\n",
      "lst_s[5]=99->['d', 'e', 'f', 'g', 'h', 88, 'j', 'k', 'l', 'm']\n",
      "lst_s+[None]*6->['d', 'e', 'f', 'g', 'h', 88, 'j', 'k', 'l', 'm', None, None, None, None, None, None]\n",
      "lst_none[13]=2015->['d', 'e', 'f', 'g', 'h', 88, 'j', 'k', 'l', 'm', None, None, None, 2015, None, None]\n",
      "lst_none[-6:-3]=list(range(100,104,2))->['d', 'e', 'f', 'g', 'h', 88, 'j', 'k', 'l', 'm', 100, 102, 2015, None, None]\n",
      "lst_none[1:1]=[0,0,0,12]->['d', 0, 0, 0, 12, 'e', 'f', 'g', 'h', 88, 'j', 'k', 'l', 'm', 100, 102, 2015, None, None]\n",
      "del lst_none[-2:]->['d', 0, 0, 0, 12, 'e', 'f', 'g', 'h', 88, 'j', 'k', 'l', 'm', 100, 102, 2015]\n"
     ]
    }
   ],
   "source": [
    "print(lst_s)\n",
    "print(\"_\"*30)\n",
    "lst_s[5]=88\n",
    "print(\"lst_s[5]=99->{}\".format(lst_s))\n",
    "lst_none=lst_s+[None]*6\n",
    "print(\"lst_s+[None]*6->{}\".format(lst_none))\n",
    "lst_none[13]=2015\n",
    "print(\"lst_none[13]=2015->{}\".format(lst_none))\n",
    "lst_none[-6:-3]=list(range(100,104,2)) \n",
    "print(\"lst_none[-6:-3]=list(range(100,104,2))->{}\".format(lst_none))\n",
    "lst_none[1:1]=[0,0,0,12]\n",
    "print(\"lst_none[1:1]=[0,0,0,12]->{}\".format(lst_none))\n",
    "del lst_none[-2:]\n",
    "print(\"del lst_none[-2:]->{}\".format(lst_none))"
   ]
  },
  {
   "cell_type": "code",
   "execution_count": 36,
   "id": "cc5d440c-cf06-43cd-8809-d623a09edfa2",
   "metadata": {},
   "outputs": [
    {
     "name": "stdout",
     "output_type": "stream",
     "text": [
      "['d', 'e', 'f', 'g', 'h']\n",
      "__________________________________________________\n",
      "lst.append(99)->['d', 'e', 'f', 'g', 'h', 99]\n",
      "lst.append(list(range(50,80,5)))->['d', 'e', 'f', 'g', 'h', 99, [50, 55, 60, 65, 70, 75]]\n",
      "lst.extend(lst_spechars)->['d', 'e', 'f', 'g', 'h', 99, [50, 55, 60, 65, 70, 75], '*', ')', '*']\n",
      "lst.count('*')=2\n",
      "lst.index('e')=1\n",
      "ls.insert(2,[1000,1200,1500])->['d', 'e', [1000, 1200, 1500], 'f', 'g', 'h', 99, [50, 55, 60, 65, 70, 75], '*', ')', '*']\n",
      "lst.pop(7)_popup->[50, 55, 60, 65, 70, 75]\n",
      "lst.pop(7)_retention->['d', 'e', [1000, 1200, 1500], 'f', 'g', 'h', 99, '*', ')', '*']\n",
      "lst.remove('*')_retention->['d', 'e', [1000, 1200, 1500], 'f', 'g', 'h', 99, ')', '*']\n",
      "llst.sort()->[2, 3, 4, 6, 42, 95]\n"
     ]
    }
   ],
   "source": [
    "lst=list(map(chr,range(100,105)))\n",
    "print(lst)\n",
    "print(\"_\"*50)\n",
    "lst.append(99)\n",
    "print(\"lst.append(99)->{}\".format(lst))\n",
    "lst.append(list(range(50,80,5)))\n",
    "print(\"lst.append(list(range(50,80,5)))->{}\".format(lst))\n",
    "lst_spechars=['*',')','*']\n",
    "lst.extend(lst_spechars)\n",
    "print(\"lst.extend(lst_spechars)->{}\".format(lst))\n",
    "print(\"lst.count('*')={}\".format(lst.count('*')))\n",
    "print(\"lst.index('e')={}\".format(lst.index('e')))\n",
    "lst.insert(2,[1000,1200,1500])\n",
    "print(\"ls.insert(2,[1000,1200,1500])->{}\".format(lst))\n",
    "print(\"lst.pop(7)_popup->{}\".format(lst.pop(7)))\n",
    "print(\"lst.pop(7)_retention->{}\".format(lst))\n",
    "lst.remove('*')\n",
    "print(\"lst.remove('*')_retention->{}\".format(lst))\n",
    "lst=[2,42,6,95,4,3]\n",
    "lst.sort()\n",
    "print(\"llst.sort()->{}\".format(lst))"
   ]
  },
  {
   "cell_type": "code",
   "execution_count": 47,
   "id": "f936ec0e-6e28-4a02-a200-c1d0bbeb7044",
   "metadata": {},
   "outputs": [
    {
     "name": "stdout",
     "output_type": "stream",
     "text": [
      "items->[(0, [0, 1, 2, 3, 4]), (1, [[114, 150, 154]]), (2, 'python')]\n",
      "dic=dict(items)->{0: [0, 1, 2, 3, 4], 1: [[114, 150, 154]], 2: 'python'}\n",
      "dic[1]->[[114, 150, 154]]\n"
     ]
    }
   ],
   "source": [
    "import random\n",
    "items=[(0,[i for i in range(5)]),(1,[random.sample(list(range(100,200,1)),3)]),(2,'python')]\n",
    "print(\"items->{}\".format(items))\n",
    "dic=dict(items)\n",
    "print(\"dic=dict(items)->{}\".format(dic))\n",
    "print(\"dic[1]->{}\".format(dic[1]))"
   ]
  },
  {
   "cell_type": "code",
   "execution_count": 48,
   "id": "1555cfe5-cc9c-4433-8fd7-4d08a0bb8cf1",
   "metadata": {},
   "outputs": [
    {
     "name": "stdout",
     "output_type": "stream",
     "text": [
      "len(dic)->3\n",
      "dic[3]=(random.random(),random.uniform(200,300))->{0: [0, 1, 2, 3, 4], 1: [[114, 150, 154]], 2: 'python', 3: (0.4209615920699342, 279.89207334117884)}\n",
      "del dic[1]->{0: [0, 1, 2, 3, 4], 2: 'python', 3: (0.4209615920699342, 279.89207334117884)}\n",
      "3 in dic->True\n",
      "5 in dic->False\n",
      "dic.keys()->dict_keys([0, 2, 3])\n",
      "dic.values()->dict_values([[0, 1, 2, 3, 4], 'python', (0.4209615920699342, 279.89207334117884)])\n",
      "dic.items()->dict_items([(0, [0, 1, 2, 3, 4]), (2, 'python'), (3, (0.4209615920699342, 279.89207334117884))])\n",
      "__________________________________________________\n",
      "list(dic.keys())->[0, 2, 3]\n"
     ]
    }
   ],
   "source": [
    "print(\"len(dic)->{}\".format(len(dic)))\n",
    "dic[3]=(random.random(),random.uniform(200,300))\n",
    "print(\"dic[3]=(random.random(),random.uniform(200,300))->{}\".format(dic))\n",
    "del dic[1]\n",
    "print(\"del dic[1]->{}\".format(dic))\n",
    "print(\"3 in dic->{}\".format(3 in dic))\n",
    "print(\"5 in dic->{}\".format(5 in dic))\n",
    "print(\"dic.keys()->{}\".format(dic.keys())) \n",
    "print(\"dic.values()->{}\".format(dic.values()))\n",
    "print(\"dic.items()->{}\".format(dic.items()))\n",
    "print(\"_\"*50)\n",
    "print(\"list(dic.keys())->{}\".format(list(dic.keys())))"
   ]
  },
  {
   "cell_type": "code",
   "execution_count": 51,
   "id": "0ff219a5-599a-4811-a061-bc49886547e3",
   "metadata": {},
   "outputs": [
    {
     "name": "stdout",
     "output_type": "stream",
     "text": [
      "lst_tp=[6, 9, 12, 15, 18],lst_qk=[100, 115, 130, 145]\n",
      "dic_2={0: [6, 9, 12, 15, 18], 1: [100, 115, 130, 145]}\n",
      "__________________________________________________\n",
      "dic_assignment={0: [6, 9, 12, 15, 18], 1: [100, 115, 130, 145]}\n",
      "dic_2.clear()->{}\n",
      "dic_assignment={}\n",
      "dic_2[5]=list(range(1,9,2))->{5: [1, 3, 5, 7]}\n",
      "dic_copy=dic_2.copy()->{5: [1, 3, 5, 7]}\n",
      "dic_2[8]=[5,7]->{5: [1, 3, 5, 7], 8: [5, 7]}\n",
      "dic_copy={5: [1, 3, 5, 7]}\n",
      "dic_copy[5].remove(5)->{5: [1, 3, 7]}\n",
      "dic_copy.setdefault(6,[77,99])->{5: [1, 3, 7], 6: [77, 99]}\n",
      "dic_2.pop(5)->{8: [5, 7]}\n",
      "dic_update={8: [5, 7, 6, 3, 2], 9: [3, 2, 33, 55, 66]}\n",
      "dic_2.update(dic_update->{8: [5, 7, 6, 3, 2], 9: [3, 2, 33, 55, 66]}\n",
      "dic_2.get(9)->[3, 2, 33, 55, 66]\n",
      "dic_2.popitem()->{8: [5, 7, 6, 3, 2]}\n",
      "dic_3={}.fromkeys([0,1,2,3,4,'A'])->{0: None, 1: None, 2: None, 3: None, 4: None, 'A': None}\n"
     ]
    }
   ],
   "source": [
    "lst_tp=list(range(6,20,3))\n",
    "lst_qk=list(range(100,150,15))\n",
    "print(\"lst_tp={},lst_qk={}\".format(lst_tp,lst_qk))\n",
    "dic_2={0:lst_tp,1:lst_qk}\n",
    "print(\"dic_2={}\".format(dic_2))\n",
    "print(\"_\"*50)\n",
    "dic_assignment=dic_2\n",
    "print(\"dic_assignment={}\".format(dic_assignment))\n",
    "dic_2.clear()\n",
    "print(\"dic_2.clear()->{}\".format(dic_2))\n",
    "print(\"dic_assignment={}\".format(dic_assignment))\n",
    "dic_2[5]=list(range(1,9,2))\n",
    "print(\"dic_2[5]=list(range(1,9,2))->{}\".format(dic_2))\n",
    "dic_copy=dic_2.copy()\n",
    "print(\"dic_copy=dic_2.copy()->{}\".format(dic_copy))\n",
    "dic_2[8]=[5,7]\n",
    "print(\"dic_2[8]=[5,7]->{}\".format(dic_2))\n",
    "print(\"dic_copy={}\".format(dic_copy))\n",
    "dic_copy[5].remove(5)\n",
    "print(\"dic_copy[5].remove(5)->{}\".format(dic_copy))\n",
    "dic_copy.setdefault(6,[77,99]) \n",
    "print(\"dic_copy.setdefault(6,[77,99])->{}\".format(dic_copy))\n",
    "dic_2.pop(5) \n",
    "print(\"dic_2.pop(5)->{}\".format(dic_2))\n",
    "dic_update={8:[5,7,6,3,2],9:[3,2,33,55,66]}\n",
    "print(\"dic_update={}\".format(dic_update))\n",
    "dic_2.update(dic_update) \n",
    "print(\"dic_2.update(dic_update->{}\".format(dic_2))\n",
    "print(\"dic_2.get(9)->{}\".format(dic_2.get(9)))\n",
    "dic_2.popitem() \n",
    "print(\"dic_2.popitem()->{}\".format(dic_2))\n",
    "\n",
    "dic_3={}.fromkeys([0,1,2,3,4,'A'])\n",
    "print(\"dic_3={}\"+\".fromkeys([0,1,2,3,4,'A'])->{}\".format(dic_3)) "
   ]
  },
  {
   "cell_type": "code",
   "execution_count": 53,
   "id": "04a895a4-82ef-48cb-84be-c220b6e806c7",
   "metadata": {},
   "outputs": [
    {
     "name": "stdout",
     "output_type": "stream",
     "text": [
      "lst=list(\"Hello Python!\")->['H', 'e', 'l', 'l', 'o', ' ', 'P', 'y', 't', 'h', 'o', 'n', '!']\n",
      "\"Hellow\"+\" Python!\"->Hellow Python!\n",
      "\"+\".join(str(123456))->1+2+3+4+5+6\n",
      "len(\"Hellow Python!\")->14\n",
      "coordinates.split(\",\")->['1111111', '2222222', '3333333']\n",
      "eval(coordinates)->(1111111, 2222222, 3333333)\n",
      "\"Hello Python!\".lower()->hello python!\n",
      "\"Hello Python!\".upper()->HELLO PYTHON!\n",
      "\"Hello Python!\"[6:]->Python!\n",
      "\"    Hello Python!    \".strip()->Hello Python!\n",
      "\"Hello Python!\".replace(\"Python\",\"Grasshopper\")->Hello Grasshopper!\n",
      "hello_lst.sort()>[' ', '!', 'H', 'P', 'e', 'h', 'l', 'l', 'n', 'o', 'o', 't', 'y']\n",
      "\"Hello Python!\".find(\"Py\")->6\n"
     ]
    }
   ],
   "source": [
    "lst=list(\"Hello Python!\")\n",
    "print(\"lst=list(\\\"Hello Python!\\\")->{}\".format(lst)) \n",
    "print(\"\\\"Hellow\\\"+\\\" Python!\\\"->{}\".format(\"Hellow\"+\" Python!\"))\n",
    "print(\"\\\"+\\\".join(str(123456))->{}\".format(\"+\".join(str(123456))))\n",
    "print(\"len(\\\"Hellow Python!\\\")->{}\".format(len(\"Hellow Python!\")))\n",
    "coordinates=\"1111111,2222222,3333333\"\n",
    "print(\"coordinates.split(\\\",\\\")->{}\".format(coordinates.split(\",\")))\n",
    "print(\"eval(coordinates)->{}\".format(eval(coordinates))) \n",
    "print(\"\\\"Hello Python!\\\".lower()->{}\".format(\"Hello Python!\".lower()))\n",
    "print(\"\\\"Hello Python!\\\".upper()->{}\".format(\"Hello Python!\".upper()))\n",
    "print(\"\\\"Hello Python!\\\"[6:]->{}\".format(\"Hello Python!\"[6:]))\n",
    "print(\"\\\"    Hello Python!    \\\".strip()->{}\".format(\"    Hello Python!    \".strip()))\n",
    "print(\"\\\"Hello Python!\\\".replace(\\\"Python\\\",\\\"Grasshopper\\\")->{}\".format(\"Hello Python!\".replace(\"Python\",\"Grasshopper\")))\n",
    "hello_lst=list(\"Hello Python!\")\n",
    "hello_lst.sort()\n",
    "print(\"hello_lst.sort()>{}\".format(hello_lst))\n",
    "print(\"\\\"Hello Python!\\\".find(\\\"Py\\\")->{}\".format(\"Hello Python!\".find(\"Py\")))"
   ]
  },
  {
   "cell_type": "code",
   "execution_count": 59,
   "id": "1e8049b8-3105-4a30-898f-2915f666860b",
   "metadata": {},
   "outputs": [
    {
     "name": "stdout",
     "output_type": "stream",
     "text": [
      "new_str=format_str % values->Hello,Python and Grasshopper!\n",
      "new_str_2=format_str_2 % (pi,3.1415926)->Pi with three decimals:3.142,and enter a value with percent sign:3.14 %\n"
     ]
    }
   ],
   "source": [
    "format_str=\"Hello,%s and %s!\"\n",
    "values=(\"Python\",\"Grasshopper\")\n",
    "new_str=format_str % values\n",
    "print(\"new_str=format_str % values->{}\".format(new_str))\n",
    "\n",
    "format_str_2=\"Pi with three decimals:%.3f,and enter a value with percent sign:%.2f %%\" #如果字符串里包含实际的%，则通过%%即两个百分号进行转义\n",
    "\n",
    "from math import pi\n",
    "new_str_2=format_str_2 % (pi,3.1415926)\n",
    "print(\"new_str_2=format_str_2 % (pi,3.1415926)->{}\".format(new_str_2))"
   ]
  },
  {
   "cell_type": "code",
   "execution_count": 64,
   "id": "3603a609-24fc-4ae5-b01a-d925230d0992",
   "metadata": {},
   "outputs": [
    {
     "name": "stdout",
     "output_type": "stream",
     "text": [
      "re.findall(r'w?cadesign\\.cn,w+\\.cadesign\\.cn','cadesign.cn,www.cadesign.cn')->['cadesign.cn,www.cadesign.cn']\n",
      "re.findall(r'w{2}\\.cadesign\\.cn','www.cadesign.cn')->['ww.cadesign.cn']\n",
      "re.findall(r'w{1,3}\\.cadesign\\.cn','www.cadesign.cn')->['www.cadesign.cn']\n"
     ]
    }
   ],
   "source": [
    "print(\"re.findall(r'w?cadesign\\.cn,w+\\.cadesign\\.cn','cadesign.cn,www.cadesign.cn')->{}\".format(re.findall(r'w?cadesign\\.cn,w+\\.cadesign\\.cn','cadesign.cn,www.cadesign.cn')))\n",
    "print(\"re.findall(r'w{2}\"+\"\\.cadesign\\.cn','www.cadesign.cn')->{}\".format(re.findall(r'w{2}\\.cadesign\\.cn','www.cadesign.cn')))\n",
    "print(\"re.findall(r'w{1,3}\"+\"\\.cadesign\\.cn','www.cadesign.cn')->{}\".format(re.findall(r'w{1,3}\\.cadesign\\.cn','www.cadesign.cn')))"
   ]
  },
  {
   "cell_type": "code",
   "execution_count": 62,
   "id": "f5ee5921-5783-47d2-8420-20ccb41000ea",
   "metadata": {},
   "outputs": [
    {
     "name": "stdout",
     "output_type": "stream",
     "text": [
      "re.findall(pattern_1,text)->['Python']\n",
      "re.findall(pattern_2,text)->[]\n"
     ]
    }
   ],
   "source": [
    "import re\n",
    "pattern_1='Python'\n",
    "text=\"Hello Python!\"\n",
    "print(\"re.findall(pattern_1,text)->{}\".format(re.findall(pattern_1,text)))\n",
    "pattern_2='python'\n",
    "print(\"re.findall(pattern_2,text)->{}\".format(re.findall(pattern_2,text)))"
   ]
  },
  {
   "cell_type": "code",
   "execution_count": 65,
   "id": "27d28bc9-9ca1-465a-a138-91461c36f252",
   "metadata": {},
   "outputs": [
    {
     "name": "stdout",
     "output_type": "stream",
     "text": [
      "re.findall('[PY]*thon!','Hello Python!')->['Python!']\n",
      "re.findall('[Py]*thon!','Hello Pthon!')->['Pthon!']\n",
      "re.findall('[Py]*thon!','Hello ython!')->['ython!']\n",
      "re.findall('[Py]*thon!','Hello ython!')->['thon!']\n"
     ]
    }
   ],
   "source": [
    "print(\"re.findall('[PY]*thon!','Hello Python!')->{}\".format(re.findall('[Py]*thon!','Hello Python!')))\n",
    "print(\"re.findall('[Py]*thon!','Hello Pthon!')->{}\".format(re.findall('[Py]*thon!','Hello Pthon!')))\n",
    "print(\"re.findall('[Py]*thon!','Hello ython!')->{}\".format(re.findall('[Py]*thon!','Hello ython!')))\n",
    "print(\"re.findall('[Py]*thon!','Hello ython!')->{}\".format(re.findall('[Py]*thon!','Hello thon!')))"
   ]
  },
  {
   "cell_type": "code",
   "execution_count": 71,
   "id": "1990eedc-dfe7-4424-9053-a0857c0048ca",
   "metadata": {},
   "outputs": [
    {
     "name": "stdout",
     "output_type": "stream",
     "text": [
      "lst=[]\n",
      "____________________\n",
      "for i in lst:\n",
      "for i in range(len(lst)):\n",
      "++++++++++++++++++++++++++++++\n",
      "dic_4={'a': 2, 'b': 2, 'c': 3, 'd': 4}\n",
      "________________________________________\n",
      "for A in dic_4:\n",
      "a\n",
      "b\n",
      "c\n",
      "d\n",
      "for A,v in dic_4.items():\n",
      "key=a,val=2\n",
      "key=b,val=2\n",
      "key=c,val=3\n",
      "key=d,val=4\n"
     ]
    }
   ],
   "source": [
    "lst=list(range(7,5,8))\n",
    "print(\"lst={}\".format(lst))\n",
    "print(\"_\"*20)\n",
    "print(\"for i in lst:\")\n",
    "for i in lst:\n",
    "    print(i)\n",
    "print(\"for i in range(len(lst)):\")\n",
    "for i in range(len(lst)):\n",
    "    print(\"idx={},val={}\".format(i,lst[i]))\n",
    "print(\"+\"*30)   \n",
    "dic_4=dict(a=2,b=2,c=3,d=4)\n",
    "print(\"dic_4={}\".format(dic_4))\n",
    "print(\"_\"*40)\n",
    "print(\"for A in dic_4:\")\n",
    "for A in dic_4:\n",
    "    print(A)\n",
    "print(\"for A,v in dic_4.items():\")\n",
    "for A,v in dic_4.items():\n",
    "    print(\"key={},val={}\".format(A,v))"
   ]
  },
  {
   "cell_type": "code",
   "execution_count": 73,
   "id": "70f65ac6-8fec-4549-9687-dda39b49bb29",
   "metadata": {},
   "outputs": [
    {
     "name": "stdout",
     "output_type": "stream",
     "text": [
      "x=1\n",
      "x=2\n",
      "x=4\n",
      "x=8\n",
      "x=16\n",
      "x=32\n",
      "x=64\n"
     ]
    }
   ],
   "source": [
    "x=1\n",
    "while x<=100:\n",
    "    print(\"x={}\".format(x))\n",
    "    x*=2    "
   ]
  },
  {
   "cell_type": "code",
   "execution_count": 82,
   "id": "7a14ac78-0810-4baa-866e-c607d2d970d7",
   "metadata": {},
   "outputs": [
    {
     "name": "stdout",
     "output_type": "stream",
     "text": [
      "x=1\n",
      "x=11\n",
      "x=21\n",
      "x=31\n",
      "x=41\n",
      "sys.maxsize=9223372036854775807\n",
      "a=0\n",
      "a=1\n",
      "a=2\n",
      "a=3\n",
      "a=4\n",
      "a=5\n",
      "a=6\n",
      "a=7\n",
      "a=8\n",
      "a=9\n",
      "a=10\n",
      "a=11\n",
      "a=12\n",
      "a=13\n",
      "a=14\n",
      "a=15\n",
      "a=16\n",
      "a=17\n",
      "a=18\n",
      "a=19\n",
      "a=20\n"
     ]
    }
   ],
   "source": [
    "x=1\n",
    "while x<=100:\n",
    "    print(\"x={}\".format(x))\n",
    "    x+=10 \n",
    "    if x>=50:break    \n",
    "    \n",
    "import sys\n",
    "print(\"sys.maxsize={}\".format(sys.maxsize))\n",
    "for a in range(sys.maxsize):\n",
    "    print(\"a={}\".format(a))  \n",
    "    a+=10\n",
    "    if a>=30:break"
   ]
  },
  {
   "cell_type": "code",
   "execution_count": 95,
   "id": "e486fcb5-71a9-48e5-bfa1-bbc25cd04a15",
   "metadata": {},
   "outputs": [
    {
     "name": "stdout",
     "output_type": "stream",
     "text": [
      "zip_lst=zip(lst_q,lst_p)-><zip object at 0x000001F7262945C0>\n",
      "dict(zip_lst)->{0: 'point_q', 1: 'point_p', 2: 'point_m', 3: 'point_n'}\n",
      "0 point_q\n",
      "1 point_p\n",
      "2 point_m\n",
      "3 point_n\n",
      "q=(0, 1, 2, 3),p=('point_q', 'point_p', 'point_m', 'point_n')\n"
     ]
    }
   ],
   "source": [
    "lst_q=[0,1,2,3]\n",
    "lst_p=['point_q','point_p','point_m','point_n']\n",
    "zip_lst=zip(lst_q,lst_p)\n",
    "print(\"zip_lst=zip(lst_q,lst_p)->{}\".format(zip_lst))\n",
    "print(\"dict(zip_lst)->{}\".format(dict(zip_lst)))\n",
    "zip_lst=zip(lst_q,lst_p) \n",
    "for q,p in zip_lst:\n",
    "    print(q,p)\n",
    "    \n",
    "zip_lst=zip(lst_q,lst_p)\n",
    "q,p=zip(*zip_lst)\n",
    "print(\"q={},p={}\".format(q,p))"
   ]
  },
  {
   "cell_type": "code",
   "execution_count": 96,
   "id": "f08ffd4c-784c-42ae-9470-7c8edc8ad27c",
   "metadata": {},
   "outputs": [
    {
     "name": "stdout",
     "output_type": "stream",
     "text": [
      "dic_4={0: 'point_a', 1: 'point_b', 2: 'point_c', 3: 'point_d'}\n",
      "dict((i,v) for i,v in enumerate(lst_c))->{0: 'point_a', 1: 'point_b', 2: 'point_c', 3: 'point_d'}\n",
      "__________________________________________________\n",
      "0:0,point_a\n",
      "1:1,point_b\n",
      "2:2,point_c\n",
      "3:3,point_d\n"
     ]
    }
   ],
   "source": [
    "lst_c=['point_a','point_b','point_c','point_d']\n",
    "dic_4={}\n",
    "for idx,value in enumerate(lst_c):\n",
    "    dic_4[idx]=value\n",
    "print(\"dic_4={}\".format(dic_4))\n",
    "print(\"dict((i,v) for i,v in enumerate(lst_c))->{}\".format(dict((i,v) for i,v in enumerate(lst_c)))) #list comprehension\n",
    "print(\"_\"*50)\n",
    "for i,(a,b) in enumerate(zip(lst_a,lst_b)):\n",
    "    print('%d:%s,%s'%(i,a,b))"
   ]
  },
  {
   "cell_type": "code",
   "execution_count": 100,
   "id": "0b1ba929-a788-43cb-ac5c-368f2c06b548",
   "metadata": {},
   "outputs": [
    {
     "name": "stdout",
     "output_type": "stream",
     "text": [
      "[x*x for x in range(5,57,53) if x%2==0]->[64, 196, 400, 676, 1024, 1444, 1936, 2500, 3136]\n",
      "[(x,y) for x in range(3)for y in range(2)]->[(0, 0), (0, 1), (1, 0), (1, 1), (2, 0), (2, 1)]\n",
      "[(x,y) for x,y in zip(range(3),range(2))]->[(0, 0), (1, 1)]\n",
      "[[a for a in range(1,10,5)],2,3,[b for b in range(60,100,7)],[[c for c in range(1000,2000,120)],3,9]]->[[1, 6], 2, 3, [60, 65, 70, 75, 80, 85, 90, 95], [[1000, 1120, 1240, 1360, 1480, 1600, 1720, 1840, 1960], 3, 9]]\n",
      "flatten_lst(nested_list)->[1, 6, 2, 3, 60, 65, 70, 75, 80, 85, 90, 95, 1000, 1120, 1240, 1360, 1480, 1600, 1720, 1840, 1960, 3, 9]\n"
     ]
    }
   ],
   "source": [
    "print(\"[x*x for x in range(5,57,53) if x%2==0]->{}\".format([x*x for x in range(5,57,3) if x%2==0]))\n",
    "print(\"[(x,y) for x in range(3)for y in range(2)]->{}\".format([(x,y) for x in range(3)for y in range(2)]))\n",
    "print(\"[(x,y) for x,y in zip(range(3),range(2))]->{}\".format([(x,y) for x,y in zip(range(3),range(2))]))\n",
    "nested_list=[[a for a in range(1,10,5)],2,3,[b for b in range(60,100,5)],[[c for c in range(1000,2000,120)],3,9]]\n",
    "print(\"[[a for a in range(1,10,5)],2,3,[b for b in range(60,100,7)],[[c for c in range(1000,2000,120)],3,9]]->{}\".format(nested_list))\n",
    "\n",
    "flatten_lst=lambda lst: [m for n_lst in lst for m in flatten_lst(n_lst)] if type(lst) is list else [lst] \n",
    "print(\"flatten_lst(nested_list)->{}\".format(flatten_lst(nested_list)))"
   ]
  },
  {
   "cell_type": "code",
   "execution_count": 101,
   "id": "bd5f1b9e-34e6-4ae9-a55c-7a714a0e58fa",
   "metadata": {},
   "outputs": [
    {
     "name": "stdout",
     "output_type": "stream",
     "text": [
      "c\n"
     ]
    }
   ],
   "source": [
    "x=50\n",
    "if x<0:\n",
    "    print('a')\n",
    "elif x==0:\n",
    "    print('b')\n",
    "elif 0<x<100:\n",
    "    print('c')\n",
    "else:\n",
    "    print('d')"
   ]
  },
  {
   "cell_type": "code",
   "execution_count": 104,
   "id": "bdd860f3-f459-4961-bac3-61b1a1ceb896",
   "metadata": {},
   "outputs": [
    {
     "name": "stdout",
     "output_type": "stream",
     "text": [
      "x==y->True\n",
      "x is y->True\n",
      "x==z->False\n",
      "x is z->False\n",
      "x is not y->False\n",
      "x is not z->True\n",
      "id_x:2161008771008;id_y:2161008771008;id_z:2161008806144\n",
      "x=[1, 2],y=[1, 2],z=[3, 6, 9] after del x[2]\n"
     ]
    }
   ],
   "source": [
    "x=y=[1,2,3]\n",
    "z=[3,6,9]\n",
    "print(\"x==y->{}\".format(x==y))\n",
    "print(\"x is y->{}\".format(x is y))\n",
    "print(\"x==z->{}\".format(x==z))\n",
    "print(\"x is z->{}\".format(x is z))\n",
    "print(\"x is not y->{}\".format(x is not y))\n",
    "print(\"x is not z->{}\".format(x is not z))\n",
    "print(\"id_x:{};id_y:{};id_z:{}\".format(id(x),id(y),id(z))) #Memory Location\n",
    "\n",
    "del x[2]\n",
    "print(\"x={},y={},z={} after del x[2]\".format(x,y,z))"
   ]
  },
  {
   "cell_type": "code",
   "execution_count": 106,
   "id": "fa98be75-ea9e-4004-a6f9-cf2065e9b39d",
   "metadata": {},
   "outputs": [
    {
     "name": "stdout",
     "output_type": "stream",
     "text": [
      "3 in x->True\n",
      "0 in x->False\n",
      "3 not in x->False\n",
      "0 not in x->True\n"
     ]
    }
   ],
   "source": [
    "x=[1,2,3]\n",
    "print(\"3 in x->{}\".format(3 in x))\n",
    "print(\"0 in x->{}\".format(0 in x))\n",
    "print(\"3 not in x->{}\".format(3 not in x))\n",
    "print(\"0 not in x->{}\".format(0 not in x))"
   ]
  },
  {
   "cell_type": "code",
   "execution_count": 107,
   "id": "ff551997-bd5d-49ed-96f7-6a7ded44c929",
   "metadata": {},
   "outputs": [
    {
     "name": "stdout",
     "output_type": "stream",
     "text": [
      "404 Not Found\n"
     ]
    }
   ],
   "source": [
    "a,b,c=0,10,15\n",
    "if c>a and c<b:\n",
    "    print('a<c<b')\n",
    "else: print('404 Not Found')"
   ]
  },
  {
   "cell_type": "code",
   "execution_count": null,
   "id": "f96807de-3aea-41e3-a3f0-fb842fb8ac89",
   "metadata": {},
   "outputs": [],
   "source": []
  }
 ],
 "metadata": {
  "kernelspec": {
   "display_name": "Python 3",
   "language": "python",
   "name": "python3"
  },
  "language_info": {
   "codemirror_mode": {
    "name": "ipython",
    "version": 3
   },
   "file_extension": ".py",
   "mimetype": "text/x-python",
   "name": "python",
   "nbconvert_exporter": "python",
   "pygments_lexer": "ipython3",
   "version": "3.8.8"
  }
 },
 "nbformat": 4,
 "nbformat_minor": 5
}
